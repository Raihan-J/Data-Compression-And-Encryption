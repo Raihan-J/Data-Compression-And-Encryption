{
  "nbformat": 4,
  "nbformat_minor": 0,
  "metadata": {
    "colab": {
      "name": "Direct Download To Google Drive.ipynb",
      "provenance": [],
      "collapsed_sections": [],
      "authorship_tag": "ABX9TyPNb0H/HjSa+0p3n6L5GWNE"
    },
    "kernelspec": {
      "name": "python3",
      "display_name": "Python 3"
    }
  },
  "cells": [
    {
      "cell_type": "markdown",
      "metadata": {
        "id": "xtwskKksITBk"
      },
      "source": [
        "*Mounting Google Drive locally*"
      ]
    },
    {
      "cell_type": "code",
      "metadata": {
        "id": "ytGym-zioajE"
      },
      "source": [
        "from google.colab import drive \n",
        "drive.mount('/content/gdrive') "
      ],
      "execution_count": null,
      "outputs": []
    },
    {
      "cell_type": "markdown",
      "metadata": {
        "id": "N4u-AwnoJ8mO"
      },
      "source": [
        "*Downloading Directly From The Link To Drive*"
      ]
    },
    {
      "cell_type": "code",
      "metadata": {
        "id": "tLfUs5Fw-c0D"
      },
      "source": [
        "import os\n",
        "os.chdir(\"Path where to download the file in gdrive\")\n",
        "\n",
        "!wget \" Link Of File \""
      ],
      "execution_count": null,
      "outputs": []
    },
    {
      "cell_type": "markdown",
      "metadata": {
        "id": "exhoBmohH4MZ"
      },
      "source": [
        "*If The Link Has Username And Password*"
      ]
    },
    {
      "cell_type": "code",
      "metadata": {
        "id": "b5rGBK1hH129"
      },
      "source": [
        "import os\n",
        "os.chdir(\"Path where to download the file in gdrive\")\n",
        "\n",
        "!wget --user=username --password=password \" Link Of File \""
      ],
      "execution_count": null,
      "outputs": []
    }
  ]
}