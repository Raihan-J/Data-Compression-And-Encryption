{
  "nbformat": 4,
  "nbformat_minor": 0,
  "metadata": {
    "colab": {
      "name": "Audio Compression.ipynb",
      "provenance": [],
      "toc_visible": true,
      "authorship_tag": "ABX9TyPs0peB6jwWuuyPBDYOI+yw"
    },
    "kernelspec": {
      "name": "python3",
      "display_name": "Python 3"
    }
  },
  "cells": [
    {
      "cell_type": "markdown",
      "metadata": {
        "id": "ZaT611tkA3jv",
        "colab_type": "text"
      },
      "source": [
        "### Audio Compression Generation of Beep Sound Using (.wav format) "
      ]
    },
    {
      "cell_type": "code",
      "metadata": {
        "id": "e_IcmFUq97iN",
        "colab_type": "code",
        "colab": {}
      },
      "source": [
        "# for audio file 1\n",
        "\n",
        "import numpy as np\n",
        "import wave\n",
        "import struct\n",
        "import matplotlib.pyplot as plt\n",
        " \n",
        "# frequency is the number of times a wave repeats a second\n",
        " \n",
        "frequency = 2000\n",
        " \n",
        "num_samples = 4800\n",
        " \n",
        "# The sampling rate of the analog to digital convert\n",
        " \n",
        "sampling_rate = 4800\n",
        " \n",
        "amplitude = 7000\n",
        " \n",
        "file = \"test.wav\"\n",
        "\n",
        "sine_wave = [np.sin(2 * np.pi * frequency * x/sampling_rate) for x in range(num_samples)]\n",
        "\n",
        "wav_file=wave.open(file, 'w')\n",
        " \n",
        "wav_file.setparams((nchannels, sampwidth, int(sampling_rate), nframes, comptype, compname))\n",
        "\n",
        "for s in sine_wave:\n",
        "   wav_file.writeframes(struct.pack('h', int(s*amplitude)))\n"
      ],
      "execution_count": 100,
      "outputs": []
    },
    {
      "cell_type": "code",
      "metadata": {
        "id": "ZWv3nomWBNo1",
        "colab_type": "code",
        "colab": {}
      },
      "source": [
        "# for audio file 2\n",
        "\n",
        "import numpy as np\n",
        "import wave\n",
        "import struct\n",
        "import matplotlib.pyplot as plt\n",
        " \n",
        "# frequency is the number of times a wave repeats a second\n",
        " \n",
        "frequency = 2000\n",
        " \n",
        "num_samples = 4800\n",
        " \n",
        "# The sampling rate of the analog to digital convert\n",
        " \n",
        "sampling_rate = 4800\n",
        " \n",
        "amplitude = 8000\n",
        " \n",
        "file = \"test-1.wav\"\n",
        "\n",
        "sine_wave = [np.sin(2 * np.pi * frequency * x/sampling_rate) for x in range(num_samples)]\n",
        "\n",
        "wav_file1=wave.open(file, 'w')\n",
        " \n",
        "wav_file1.setparams((nchannels, sampwidth, int(sampling_rate), nframes, comptype, compname))\n",
        "\n",
        "for s in sine_wave:\n",
        "   wav_file1.writeframes(struct.pack('h', int(s*amplitude)))"
      ],
      "execution_count": 101,
      "outputs": []
    },
    {
      "cell_type": "markdown",
      "metadata": {
        "id": "iCh2tsOq2qzM",
        "colab_type": "text"
      },
      "source": [
        "Combining 2 Audio Files test.wav & test-1.wav"
      ]
    },
    {
      "cell_type": "code",
      "metadata": {
        "id": "EjtigpUIBl7X",
        "colab_type": "code",
        "colab": {}
      },
      "source": [
        "nframes=num_samples\n",
        " \n",
        "comptype=\"NONE\"\n",
        " \n",
        "compname=\"not compressed\"\n",
        " \n",
        "nchannels=1\n",
        " \n",
        "sampwidth=2"
      ],
      "execution_count": 102,
      "outputs": []
    },
    {
      "cell_type": "code",
      "metadata": {
        "id": "PLg43ajWHsT_",
        "colab_type": "code",
        "colab": {}
      },
      "source": [
        "pip install audiosegment\n"
      ],
      "execution_count": 97,
      "outputs": []
    },
    {
      "cell_type": "code",
      "metadata": {
        "id": "jiSeuwEMJOHv",
        "colab_type": "code",
        "colab": {
          "base_uri": "https://localhost:8080/",
          "height": 34
        },
        "outputId": "88c04930-e4e7-4c60-b836-bfbc2fec3aaf"
      },
      "source": [
        "from pydub import AudioSegment\n",
        "\n",
        "sound1 = AudioSegment.from_wav(\"test.wav\")\n",
        "\n",
        "sound2 = AudioSegment.from_wav(\"test-1.wav\")\n",
        "\n",
        "combined_sounds = sound1 + sound2\n",
        "\n",
        "combined_sounds.export(\"combined.wav\", format=\"wav\")"
      ],
      "execution_count": 103,
      "outputs": [
        {
          "output_type": "execute_result",
          "data": {
            "text/plain": [
              "<_io.BufferedRandom name='combined.wav'>"
            ]
          },
          "metadata": {
            "tags": []
          },
          "execution_count": 103
        }
      ]
    }
  ]
}