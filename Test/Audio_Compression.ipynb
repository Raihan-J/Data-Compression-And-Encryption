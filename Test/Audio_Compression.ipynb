{
  "nbformat": 4,
  "nbformat_minor": 0,
  "metadata": {
    "colab": {
      "name": "Audio Compression.ipynb",
      "provenance": [],
      "toc_visible": true,
      "authorship_tag": "ABX9TyMEAOW1gqLSMISOlTEjuomI",
      "include_colab_link": true
    },
    "kernelspec": {
      "name": "python3",
      "display_name": "Python 3"
    }
  },
  "cells": [
    {
      "cell_type": "markdown",
      "metadata": {
        "id": "view-in-github",
        "colab_type": "text"
      },
      "source": [
        "<a href=\"https://colab.research.google.com/github/Raihan-J/Data-Compression-And-Encryption/blob/master/Test/Audio_Compression.ipynb\" target=\"_parent\"><img src=\"https://colab.research.google.com/assets/colab-badge.svg\" alt=\"Open In Colab\"/></a>"
      ]
    },
    {
      "cell_type": "markdown",
      "metadata": {
        "id": "ZaT611tkA3jv",
        "colab_type": "text"
      },
      "source": [
        "### audio compression-generation of beep sound using .wav format "
      ]
    },
    {
      "cell_type": "code",
      "metadata": {
        "id": "e_IcmFUq97iN",
        "colab_type": "code",
        "colab": {}
      },
      "source": [
        "import numpy as np\n",
        "import wave\n",
        "import struct\n",
        "import matplotlib.pyplot as plt\n",
        " \n",
        "# frequency is the number of times a wave repeats a second\n",
        " \n",
        "frequency = 100\n",
        " \n",
        "num_samples = 48\n",
        " \n",
        "# The sampling rate of the analog to digital convert\n",
        " \n",
        "sampling_rate = 480\n",
        " \n",
        "amplitude = 1000\n",
        " \n",
        "file = \"test.wav\"\n",
        "\n",
        "sine_wave = [np.sin(2 * np.pi * frequency * x/sampling_rate) for x in range(num_samples)]\n",
        "\n",
        "wav_file=wave.open(file, 'w')\n",
        " \n",
        "wav_file.setparams((nchannels, sampwidth, int(sampling_rate), nframes, comptype, compname))\n",
        "\n",
        "for s in sine_wave:\n",
        "   wav_file.writeframes(struct.pack('h', int(s*amplitude)))\n"
      ],
      "execution_count": 66,
      "outputs": []
    },
    {
      "cell_type": "code",
      "metadata": {
        "id": "ZWv3nomWBNo1",
        "colab_type": "code",
        "colab": {}
      },
      "source": [
        "import numpy as np\n",
        "import wave\n",
        "import struct\n",
        "import matplotlib.pyplot as plt\n",
        " \n",
        "# frequency is the number of times a wave repeats a second\n",
        " \n",
        "frequency = 2000\n",
        " \n",
        "num_samples = 4800\n",
        " \n",
        "# The sampling rate of the analog to digital convert\n",
        " \n",
        "sampling_rate = 4800\n",
        " \n",
        "amplitude = 8000\n",
        " \n",
        "file = \"test-1.wav\"\n",
        "\n",
        "y = [np.sin(2 * np.pi * frequency * x/sampling_rate) for x in range(num_samples)]\n",
        "\n",
        "wav_file1=wave.open(file, 'w')\n",
        " \n",
        "wav_file1.setparams((nchannels, sampwidth, int(sampling_rate), nframes, comptype, compname))\n",
        "\n",
        "for s in sine_wave:\n",
        "   wav_file1.writeframes(struct.pack('h', int(s*amplitude)))"
      ],
      "execution_count": 59,
      "outputs": []
    },
    {
      "cell_type": "markdown",
      "metadata": {
        "id": "iCh2tsOq2qzM",
        "colab_type": "text"
      },
      "source": [
        "Combining 2 Audio Files test.wav & test-1.wav"
      ]
    },
    {
      "cell_type": "code",
      "metadata": {
        "id": "EjtigpUIBl7X",
        "colab_type": "code",
        "colab": {}
      },
      "source": [
        "nframes=num_samples\n",
        " \n",
        "comptype=\"NONE\"\n",
        " \n",
        "compname=\"not compressed\"\n",
        " \n",
        "nchannels=1\n",
        " \n",
        "sampwidth=2"
      ],
      "execution_count": 54,
      "outputs": []
    },
    {
      "cell_type": "code",
      "metadata": {
        "id": "PLg43ajWHsT_",
        "colab_type": "code",
        "colab": {}
      },
      "source": [
        "!pip install audiosegment\n"
      ],
      "execution_count": 38,
      "outputs": []
    },
    {
      "cell_type": "code",
      "metadata": {
        "id": "jiSeuwEMJOHv",
        "colab_type": "code",
        "colab": {
          "base_uri": "https://localhost:8080/",
          "height": 34
        },
        "outputId": "c7ba3d94-8fc1-4543-a62a-87af392e85f6"
      },
      "source": [
        "from pydub import AudioSegment\n",
        "\n",
        "sound1 = AudioSegment.from_wav(\"test.wav\")\n",
        "\n",
        "sound2 = AudioSegment.from_wav(\"test-1.wav\")\n",
        "\n",
        "combined_sounds = sound1 + sound2\n",
        "\n",
        "combined_sounds.export(\"combined.wav\", format=\"wav\")"
      ],
      "execution_count": 60,
      "outputs": [
        {
          "output_type": "execute_result",
          "data": {
            "text/plain": [
              "<_io.BufferedRandom name='combined.wav'>"
            ]
          },
          "metadata": {
            "tags": []
          },
          "execution_count": 60
        }
      ]
    },
    {
      "cell_type": "markdown",
      "metadata": {
        "id": "0cc7suHr2ZYa",
        "colab_type": "text"
      },
      "source": [
        "**Ploting Graph**"
      ]
    },
    {
      "cell_type": "code",
      "metadata": {
        "id": "Vt_3zW3Y-xrp",
        "colab_type": "code",
        "colab": {}
      },
      "source": [
        "y = [np.sin(2 * np.pi * frequency * x/sampling_rate) for x in range(num_samples)]"
      ],
      "execution_count": 67,
      "outputs": []
    },
    {
      "cell_type": "code",
      "metadata": {
        "id": "fK83GiTR-8tZ",
        "colab_type": "code",
        "colab": {
          "base_uri": "https://localhost:8080/",
          "height": 279
        },
        "outputId": "d9113d37-3fd8-4c92-a0fa-fa1ea74ab93a"
      },
      "source": [
        "x = np.arange(num_samples)\n",
        "plt.plot(x, y)\n",
        "plt.xlabel('sample(n)')\n",
        "plt.ylabel('sample(N)')\n",
        "plt.show()"
      ],
      "execution_count": 68,
      "outputs": [
        {
          "output_type": "display_data",
          "data": {
            "image/png": "[encoded data removed]",
            "text/plain": [
              "<Figure size 432x288 with 1 Axes>"
            ]
          },
          "metadata": {
            "tags": [],
            "needs_background": "light"
          }
        }
      ]
    }
  ]
}