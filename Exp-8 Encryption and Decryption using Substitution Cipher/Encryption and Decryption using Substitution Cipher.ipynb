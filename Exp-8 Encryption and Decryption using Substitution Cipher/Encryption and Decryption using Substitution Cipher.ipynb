{
  "nbformat": 4,
  "nbformat_minor": 0,
  "metadata": {
    "colab": {
      "name": "Encryption and Decryption using Substitution Cipher.ipynb",
      "provenance": [],
      "collapsed_sections": [],
      "authorship_tag": "ABX9TyO4ojgNk/5Xrs1bZiVQetWB"
    },
    "kernelspec": {
      "name": "python3",
      "display_name": "Python 3"
    }
  },
  "cells": [
    {
      "cell_type": "code",
      "metadata": {
        "id": "UoTp4WrpmPkq"
      },
      "source": [
        "!pip3 install pyperclip"
      ],
      "execution_count": null,
      "outputs": []
    },
    {
      "cell_type": "code",
      "metadata": {
        "id": "uD00Vhsxl-LL"
      },
      "source": [
        "import pyperclip\n",
        "from time import sleep"
      ],
      "execution_count": null,
      "outputs": []
    },
    {
      "cell_type": "code",
      "metadata": {
        "colab": {
          "base_uri": "https://localhost:8080/"
        },
        "id": "6Ptkie-WlPCC",
        "outputId": "459df4f4-872a-486f-b3df-41da1667c278"
      },
      "source": [
        "def encrypt(text,s):\n",
        "  result = \"\"\n",
        "# transverse the plain text\n",
        "  for i in range(len(text)):\n",
        "    char = text[i]\n",
        "# Encrypt uppercase characters in plain text\n",
        "    if (char.isupper()):\n",
        "      result += chr((ord(char) + s-65) % 26 + 65) # Encrypt lowercase characters in plain text\n",
        "    else:\n",
        "      result += chr((ord(char) + s - 97) % 26 + 97)\n",
        "  return result\n",
        "#check the above function\n",
        "text = \"CAESAR CIPHER DEMO\"\n",
        "s = 4\n",
        "print(\"Plain Text : \" + text)\n",
        "print(\"Shift pattern : \" + str(s))\n",
        "print(\"Cipher: \" + encrypt(text,s))\n",
        "message = 'MOKCOBxMSZROBxNOWY' #encrypted message\n",
        "LETTERS = 'ABCDEFGHIJKLMNOPQRSTUVWXYZ'\n",
        "for key in range(len(LETTERS)):\n",
        "  translated = ''\n",
        "  for symbol in message:\n",
        "    if symbol in LETTERS:\n",
        "      num = LETTERS.find(symbol)\n",
        "      num = num - key\n",
        "      if num < 0:\n",
        "        num = num + len(LETTERS)\n",
        "      translated = translated + LETTERS[num]\n",
        "    else:\n",
        "      translated = translated + symbol\n",
        "print('Hacking key #%s: %s' % (key, translated))\n",
        "\n",
        "\n",
        "def main():\n",
        "  myMessage = 'AiKtC'\n",
        "  myKey = 10\n",
        "  ciphertext = encryptMessage(myKey, myMessage)\n",
        "  print(\"Cipher Text is\")\n",
        "  print(ciphertext + '|')\n",
        "  pyperclip.copy(ciphertext)\n",
        "\n",
        "\n",
        "def encryptMessage(key, message):\n",
        "  ciphertext = [''] * key\n",
        "  for col in range(key):\n",
        "    position = col\n",
        "    while position < len(message):\n",
        "      ciphertext[col] += message[position]\n",
        "      position += key\n",
        "      return ''.join(ciphertext) #Cipher text\n",
        "\n",
        "if __name__ == \"_main_\":\n",
        "     main()\n",
        "     print(\"This is my file to demonstrate best practices.\")\n",
        "\n",
        "\n",
        "def process_data(data):\n",
        "  print(\"Beginning data processing...\")\n",
        "  modified_data = data + \" that has been modified\"\n",
        "  sleep(3)\n",
        "  print(\"Data processing finished.\")\n",
        "  return modified_data\n",
        "\n",
        "if __name__ == \"_main_\":\n",
        "     data = \"My data read from the Web\"\n",
        "     print(data)\n",
        "     modified_data = process_data(data)\n",
        "     print(modified_data)\n"
      ],
      "execution_count": null,
      "outputs": [
        {
          "output_type": "stream",
          "text": [
            "Plain Text : CAESAR CIPHER DEMO\n",
            "Shift pattern : 4\n",
            "Cipher: GEIWEVrGMTLIVrHIQS\n",
            "Hacking key #25: NPLDPCxNTASPCxOPAZ\n"
          ],
          "name": "stdout"
        }
      ]
    }
  ]
}