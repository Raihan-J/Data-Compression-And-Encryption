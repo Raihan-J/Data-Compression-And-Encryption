{
  "nbformat": 4,
  "nbformat_minor": 0,
  "metadata": {
    "colab": {
      "name": "Advanced Matrix Operations.ipynb",
      "provenance": [],
      "collapsed_sections": [],
      "authorship_tag": "ABX9TyNm8y7IHDA+EodAinzHCKS1",
      "include_colab_link": true
    },
    "kernelspec": {
      "name": "python3",
      "display_name": "Python 3"
    }
  },
  "cells": [
    {
      "cell_type": "markdown",
      "metadata": {
        "id": "view-in-github",
        "colab_type": "text"
      },
      "source": [
        "<a href=\"https://colab.research.google.com/github/Raihan-J/Data-Compression-And-Encryption/blob/master/Advanced%20Matrix%20Operations/Advanced%20Matrix%20Operations.ipynb\" target=\"_parent\"><img src=\"https://colab.research.google.com/assets/colab-badge.svg\" alt=\"Open In Colab\"/></a>"
      ]
    },
    {
      "cell_type": "markdown",
      "metadata": {
        "id": "lZ4Tpa4k9eMF",
        "colab_type": "text"
      },
      "source": [
        "**Flatten () function**"
      ]
    },
    {
      "cell_type": "code",
      "metadata": {
        "id": "K3E3fZF09QE_",
        "colab_type": "code",
        "colab": {}
      },
      "source": [
        "from numpy import asmatrix,arange"
      ],
      "execution_count": 1,
      "outputs": []
    },
    {
      "cell_type": "code",
      "metadata": {
        "id": "tAnI9mW19yng",
        "colab_type": "code",
        "colab": {
          "base_uri": "https://localhost:8080/",
          "height": 67
        },
        "outputId": "3e9daea7-d5fd-4367-8a8e-1f9a573d39be"
      },
      "source": [
        "a = asmatrix(arange(1,10).reshape(3,3))\n",
        "a"
      ],
      "execution_count": 2,
      "outputs": [
        {
          "output_type": "execute_result",
          "data": {
            "text/plain": [
              "matrix([[1, 2, 3],\n",
              "        [4, 5, 6],\n",
              "        [7, 8, 9]])"
            ]
          },
          "metadata": {
            "tags": []
          },
          "execution_count": 2
        }
      ]
    },
    {
      "cell_type": "code",
      "metadata": {
        "id": "iL1sVD7b-IM_",
        "colab_type": "code",
        "colab": {
          "base_uri": "https://localhost:8080/",
          "height": 34
        },
        "outputId": "ff4a9a6d-9710-49f0-d802-a7fd8af48b7c"
      },
      "source": [
        "a.flatten()"
      ],
      "execution_count": 3,
      "outputs": [
        {
          "output_type": "execute_result",
          "data": {
            "text/plain": [
              "matrix([[1, 2, 3, 4, 5, 6, 7, 8, 9]])"
            ]
          },
          "metadata": {
            "tags": []
          },
          "execution_count": 3
        }
      ]
    },
    {
      "cell_type": "markdown",
      "metadata": {
        "id": "E8cdlYzX-TwB",
        "colab_type": "text"
      },
      "source": [
        "**Frobenius Norm Of a Matrix**"
      ]
    },
    {
      "cell_type": "markdown",
      "metadata": {
        "id": "Q1VGuL63-cg-",
        "colab_type": "text"
      },
      "source": [
        "**Assignment-1**"
      ]
    },
    {
      "cell_type": "code",
      "metadata": {
        "id": "LLA-ZOCz-L1e",
        "colab_type": "code",
        "colab": {
          "base_uri": "https://localhost:8080/",
          "height": 84
        },
        "outputId": "fcfc5973-3542-4462-f173-15ed9e81b2e8"
      },
      "source": [
        "m = asmatrix(arange(1,17).reshape(4,4))\n",
        "m[0,1] = 0\n",
        "m[1,3] = 0\n",
        "m"
      ],
      "execution_count": 4,
      "outputs": [
        {
          "output_type": "execute_result",
          "data": {
            "text/plain": [
              "matrix([[ 1,  0,  3,  4],\n",
              "        [ 5,  6,  7,  0],\n",
              "        [ 9, 10, 11, 12],\n",
              "        [13, 14, 15, 16]])"
            ]
          },
          "metadata": {
            "tags": []
          },
          "execution_count": 4
        }
      ]
    },
    {
      "cell_type": "code",
      "metadata": {
        "id": "UDDBv5az_e6f",
        "colab_type": "code",
        "colab": {
          "base_uri": "https://localhost:8080/",
          "height": 34
        },
        "outputId": "0e58d5c4-fa65-43d9-a4d4-841a7925a9ff"
      },
      "source": [
        "from numpy.linalg import inv, norm\n",
        "im = inv(m)\n",
        "norm(im)"
      ],
      "execution_count": 5,
      "outputs": [
        {
          "output_type": "execute_result",
          "data": {
            "text/plain": [
              "3.7059917700933944"
            ]
          },
          "metadata": {
            "tags": []
          },
          "execution_count": 5
        }
      ]
    },
    {
      "cell_type": "markdown",
      "metadata": {
        "id": "PCtghTZa_8D0",
        "colab_type": "text"
      },
      "source": [
        "**Infinty Norm**"
      ]
    },
    {
      "cell_type": "markdown",
      "metadata": {
        "id": "IRiw0e77__Qc",
        "colab_type": "text"
      },
      "source": [
        "**Assignment-2**"
      ]
    },
    {
      "cell_type": "code",
      "metadata": {
        "id": "ILcHDn6v_7F5",
        "colab_type": "code",
        "colab": {
          "base_uri": "https://localhost:8080/",
          "height": 34
        },
        "outputId": "5cdc5914-dab7-40f6-d920-b294bfed2d2e"
      },
      "source": [
        "from numpy import inf\n",
        "norm(im,ord=inf)"
      ],
      "execution_count": 6,
      "outputs": [
        {
          "output_type": "execute_result",
          "data": {
            "text/plain": [
              "4.624999999999995"
            ]
          },
          "metadata": {
            "tags": []
          },
          "execution_count": 6
        }
      ]
    },
    {
      "cell_type": "markdown",
      "metadata": {
        "id": "EVqnVweZ-wm4",
        "colab_type": "text"
      },
      "source": [
        "**Singular Value Decomposition (SVD)**"
      ]
    },
    {
      "cell_type": "code",
      "metadata": {
        "id": "vlgHXVY6-veg",
        "colab_type": "code",
        "colab": {
          "base_uri": "https://localhost:8080/",
          "height": 50
        },
        "outputId": "c603bd5f-1556-41b8-e50a-1526f1aa83d2"
      },
      "source": [
        "from numpy import matrix\n",
        "from numpy.linalg import svd\n",
        "\n",
        "m1 = matrix([[3,2,2],[2,3,-2]])\n",
        "U,sigma,V_conjugate = svd(m1)\n",
        "\n",
        "U"
      ],
      "execution_count": 7,
      "outputs": [
        {
          "output_type": "execute_result",
          "data": {
            "text/plain": [
              "matrix([[-0.70710678, -0.70710678],\n",
              "        [-0.70710678,  0.70710678]])"
            ]
          },
          "metadata": {
            "tags": []
          },
          "execution_count": 7
        }
      ]
    },
    {
      "cell_type": "code",
      "metadata": {
        "id": "iEHW3JVY_bMs",
        "colab_type": "code",
        "colab": {
          "base_uri": "https://localhost:8080/",
          "height": 34
        },
        "outputId": "040a48dd-0d81-4a22-f45a-d8368f08d21c"
      },
      "source": [
        "sigma"
      ],
      "execution_count": 8,
      "outputs": [
        {
          "output_type": "execute_result",
          "data": {
            "text/plain": [
              "array([5., 3.])"
            ]
          },
          "metadata": {
            "tags": []
          },
          "execution_count": 8
        }
      ]
    },
    {
      "cell_type": "code",
      "metadata": {
        "id": "ml02BVD6_iQ0",
        "colab_type": "code",
        "colab": {
          "base_uri": "https://localhost:8080/",
          "height": 67
        },
        "outputId": "fe0beb9b-1cee-4668-f440-24b304c280b4"
      },
      "source": [
        "V_conjugate"
      ],
      "execution_count": 9,
      "outputs": [
        {
          "output_type": "execute_result",
          "data": {
            "text/plain": [
              "matrix([[-7.07106781e-01, -7.07106781e-01, -6.47932334e-17],\n",
              "        [-2.35702260e-01,  2.35702260e-01, -9.42809042e-01],\n",
              "        [-6.66666667e-01,  6.66666667e-01,  3.33333333e-01]])"
            ]
          },
          "metadata": {
            "tags": []
          },
          "execution_count": 9
        }
      ]
    },
    {
      "cell_type": "code",
      "metadata": {
        "id": "GhMySgTb_lr9",
        "colab_type": "code",
        "colab": {
          "base_uri": "https://localhost:8080/",
          "height": 50
        },
        "outputId": "35ab1725-d95c-4831-8758-6e69e6132513"
      },
      "source": [
        "from numpy import diag,allclose\n",
        "from numpy.matlib import zeros\n",
        "smat = zeros((2,3))\n",
        "\n",
        "smat"
      ],
      "execution_count": 10,
      "outputs": [
        {
          "output_type": "execute_result",
          "data": {
            "text/plain": [
              "matrix([[0., 0., 0.],\n",
              "        [0., 0., 0.]])"
            ]
          },
          "metadata": {
            "tags": []
          },
          "execution_count": 10
        }
      ]
    },
    {
      "cell_type": "code",
      "metadata": {
        "id": "5tntlFRr_6nX",
        "colab_type": "code",
        "colab": {
          "base_uri": "https://localhost:8080/",
          "height": 50
        },
        "outputId": "e65110cc-ee0b-408e-c6c5-7b818ae06f74"
      },
      "source": [
        "smat[:2,:2] = diag(sigma)\n",
        "\n",
        "smat"
      ],
      "execution_count": 11,
      "outputs": [
        {
          "output_type": "execute_result",
          "data": {
            "text/plain": [
              "matrix([[5., 0., 0.],\n",
              "        [0., 3., 0.]])"
            ]
          },
          "metadata": {
            "tags": []
          },
          "execution_count": 11
        }
      ]
    },
    {
      "cell_type": "code",
      "metadata": {
        "id": "ql-Va6X2AEdw",
        "colab_type": "code",
        "colab": {
          "base_uri": "https://localhost:8080/",
          "height": 34
        },
        "outputId": "cb7a400b-cb04-40a2-dff7-e45a510c8963"
      },
      "source": [
        "allclose(m1, U* smat *V_conjugate)"
      ],
      "execution_count": 12,
      "outputs": [
        {
          "output_type": "execute_result",
          "data": {
            "text/plain": [
              "True"
            ]
          },
          "metadata": {
            "tags": []
          },
          "execution_count": 12
        }
      ]
    }
  ]
}