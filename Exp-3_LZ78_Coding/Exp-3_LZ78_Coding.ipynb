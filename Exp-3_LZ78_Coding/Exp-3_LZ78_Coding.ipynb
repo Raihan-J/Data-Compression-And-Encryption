{
  "nbformat": 4,
  "nbformat_minor": 0,
  "metadata": {
    "colab": {
      "name": "LZ78 coding.ipynb",
      "provenance": [],
      "authorship_tag": "ABX9TyPyNz96F6tT8vD96TjbhXjU"
    },
    "kernelspec": {
      "name": "python3",
      "display_name": "Python 3"
    }
  },
  "cells": [
    {
      "cell_type": "code",
      "metadata": {
        "id": "QxCilst74JE0",
        "colab_type": "code",
        "colab": {}
      },
      "source": [
        "def encodeLZ(FileIn, FileOut):\n",
        "    input_file = open(FileIn, 'r')\n",
        "    encoded_file = open(FileOut, 'w')\n",
        "    text_from_file = input_file.read()\n",
        "    dict_of_codes = {text_from_file[0]: '1'}\n",
        "    encoded_file.write('0' + text_from_file[0])\n",
        "    text_from_file = text_from_file[1:]\n",
        "    combination = ''\n",
        "    code = 2\n",
        "    for char in text_from_file:\n",
        "        combination += char\n",
        "        if combination not in dict_of_codes:\n",
        "            dict_of_codes[combination] = str(code)\n",
        "            if len(combination) == 1:\n",
        "                encoded_file.write('0' + combination)\n",
        "            else:\n",
        "                encoded_file.write(dict_of_codes[combination[0:-1]] + combination[-1])\n",
        "            code += 1\n",
        "            combination = ''\n",
        "    input_file.close()\n",
        "    encoded_file.close()\n",
        "    return True\n",
        "\n",
        "def decodeLZ(FileIn, FileOut):\n",
        "    coded_file = open(FileIn, 'r')\n",
        "    decoded_file = open(FileOut, 'w')\n",
        "    text_from_file = coded_file.read()\n",
        "    dict_of_codes = {'0': '', '1': text_from_file[1]}\n",
        "    decoded_file.write(dict_of_codes['1'])\n",
        "    text_from_file = text_from_file[2:]\n",
        "    combination = ''\n",
        "    code = 2\n",
        "    for char in text_from_file:\n",
        "        if char in '1234567890':\n",
        "            combination += char\n",
        "        else:\n",
        "            dict_of_codes[str(code)] = dict_of_codes[combination] + char\n",
        "            decoded_file.write(dict_of_codes[combination] + char)\n",
        "            combination = ''\n",
        "            code += 1\n",
        "    coded_file.close()\n",
        "    decoded_file.close()\n",
        "\n"
      ],
      "execution_count": null,
      "outputs": []
    },
    {
      "cell_type": "code",
      "metadata": {
        "id": "JSSL28LG6orw",
        "colab_type": "code",
        "colab": {
          "base_uri": "https://localhost:8080/",
          "height": 34
        },
        "outputId": "c32c92f0-4d7f-4e6e-89a6-cac48479a851"
      },
      "source": [
        "encodeLZ('Message to be encoded.txt' , 'code encoded.txt')"
      ],
      "execution_count": null,
      "outputs": [
        {
          "output_type": "execute_result",
          "data": {
            "text/plain": [
              "True"
            ]
          },
          "metadata": {
            "tags": []
          },
          "execution_count": 4
        }
      ]
    },
    {
      "cell_type": "code",
      "metadata": {
        "id": "5NA-SNoUrzMy",
        "colab_type": "code",
        "colab": {}
      },
      "source": [
        "decodeLZ('message to be decoded.txt' , 'code decoded.txt')"
      ],
      "execution_count": null,
      "outputs": []
    }
  ]
}
