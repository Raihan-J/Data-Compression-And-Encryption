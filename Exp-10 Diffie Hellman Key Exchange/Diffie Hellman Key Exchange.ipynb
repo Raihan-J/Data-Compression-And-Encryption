{
  "nbformat": 4,
  "nbformat_minor": 0,
  "metadata": {
    "colab": {
      "name": "Diffie Hellman Key Exchange.ipynb",
      "provenance": [],
      "collapsed_sections": [],
      "authorship_tag": "ABX9TyOove3FuLo0b8kMloyx0AoB"
    },
    "kernelspec": {
      "name": "python3",
      "display_name": "Python 3"
    }
  },
  "cells": [
    {
      "cell_type": "code",
      "metadata": {
        "colab": {
          "base_uri": "https://localhost:8080/"
        },
        "id": "0n3QY4Hk1LaL",
        "outputId": "75f8d12a-342e-4353-c323-c1250b7a59db"
      },
      "source": [
        "from __future__ import print_function\n",
        "\n",
        "# Variables Used\n",
        "sharedPrime = int(input(\"enter a value of P\")) # p \n",
        "sharedBase = int(input(\"enter a value of Q\")) # g\n",
        "aliceSecret = int(input(\"enter a value of a\")) # a \n",
        "bobSecret = int(input(\"enter a value of b\")) # b\n",
        "\n",
        "# Begin\n",
        "print(\"Publicly Shared Variables:\")\n",
        "print(\" Publicly Shared Prime: \" , sharedPrime )\n",
        "print(\" 2Publicly Shared Base: \" , sharedBase )\n",
        "\n",
        "# Alice Sends Bob A = g^a mod p\n",
        "A = (sharedBase**aliceSecret) % sharedPrime\n",
        "print( \"\\nAlice Sends Over Public Chanel: \" , A )\n",
        "\n",
        "# Bob Sends Alice B = g^b mod p\n",
        "B = (sharedBase ** bobSecret) % sharedPrime\n",
        "print( \"Bob Sends Over Public Chanel: \", B )\n",
        "print( \"\\n------------\\n\" )\n",
        "print( \"Privately Calculated Shared Secret:\" )\n",
        "\n",
        "# Alice Computes Shared Secret: s = B^a mod p\n",
        "aliceSharedSecret = (B ** aliceSecret) % sharedPrime\n",
        "print( \" Alice Shared Secret: \", aliceSharedSecret )\n",
        "\n",
        "# Bob Computes Shared Secret: s = A^b mod p \n",
        "bobSharedSecret = (A**bobSecret) % sharedPrime\n",
        "print( \" Bob Shared Secret: \", bobSharedSecret )\n"
      ],
      "execution_count": null,
      "outputs": [
        {
          "output_type": "stream",
          "text": [
            "enter a value of P353\n",
            "enter a value of Q3\n",
            "enter a value of a97\n",
            "enter a value of b233\n",
            "Publicly Shared Variables:\n",
            " Publicly Shared Prime:  353\n",
            " 2Publicly Shared Base:  3\n",
            "\n",
            "Alice Sends Over Public Chanel:  40\n",
            "Bob Sends Over Public Chanel:  248\n",
            "\n",
            "------------\n",
            "\n",
            "Privately Calculated Shared Secret:\n",
            " Alice Shared Secret:  160\n",
            " Bob Shared Secret:  160\n"
          ],
          "name": "stdout"
        }
      ]
    }
  ]
}