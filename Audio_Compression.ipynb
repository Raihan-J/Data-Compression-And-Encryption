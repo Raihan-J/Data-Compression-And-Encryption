{
  "nbformat": 4,
  "nbformat_minor": 0,
  "metadata": {
    "colab": {
      "name": "Audio Compression.ipynb",
      "provenance": [],
      "authorship_tag": "ABX9TyMVZs8D/m7Tr1d9ai/1tDhf",
      "include_colab_link": true
    },
    "kernelspec": {
      "name": "python3",
      "display_name": "Python 3"
    }
  },
  "cells": [
    {
      "cell_type": "markdown",
      "metadata": {
        "id": "view-in-github",
        "colab_type": "text"
      },
      "source": [
        "<a href=\"https://colab.research.google.com/github/Raihan-J/Data-Compression-And-Encryption/blob/master/Audio_Compression.ipynb\" target=\"_parent\"><img src=\"https://colab.research.google.com/assets/colab-badge.svg\" alt=\"Open In Colab\"/></a>"
      ]
    },
    {
      "cell_type": "code",
      "metadata": {
        "id": "e_IcmFUq97iN",
        "colab_type": "code",
        "colab": {}
      },
      "source": [
        "import numpy as np\n",
        " \n",
        "import wave\n",
        " \n",
        "import struct\n",
        " \n",
        "import matplotlib.pyplot as plt\n",
        " \n",
        "# frequency is the number of times a wave repeats a second\n",
        " \n",
        "frequency = 100\n",
        " \n",
        "num_samples = 48\n",
        " \n",
        "# The sampling rate of the analog to digital convert\n",
        " \n",
        "sampling_rate = 480\n",
        " \n",
        "amplitude = 1000\n",
        " \n",
        "file = \"test.wav\"\n"
      ],
      "execution_count": null,
      "outputs": []
    },
    {
      "cell_type": "code",
      "metadata": {
        "id": "Vt_3zW3Y-xrp",
        "colab_type": "code",
        "colab": {}
      },
      "source": [
        "y = [np.sin(2 * np.pi * frequency * x/sampling_rate) for x in range(num_samples)]"
      ],
      "execution_count": null,
      "outputs": []
    },
    {
      "cell_type": "code",
      "metadata": {
        "id": "fK83GiTR-8tZ",
        "colab_type": "code",
        "colab": {
          "base_uri": "https://localhost:8080/",
          "height": 279
        },
        "outputId": "37fbb678-f009-4cd8-d923-577b4274d1e4"
      },
      "source": [
        "x = np.arange(num_samples)\n",
        "plt.plot(x, y)\n",
        "plt.xlabel('sample(n)')\n",
        "plt.ylabel('voltage(V)')\n",
        "plt.show()"
      ],
      "execution_count": null,
      "outputs": [
        {
          "output_type": "display_data",
          "data": {
            "image/png": "[encoded data removed]",
            "text/plain": [
              "<Figure size 432x288 with 1 Axes>"
            ]
          },
          "metadata": {
            "tags": [],
            "needs_background": "light"
          }
        }
      ]
    },
    {
      "cell_type": "markdown",
      "metadata": {
        "id": "ZaT611tkA3jv",
        "colab_type": "text"
      },
      "source": [
        "### audio compression-generation of beep sound using wave .wav "
      ]
    },
    {
      "cell_type": "code",
      "metadata": {
        "id": "ZWv3nomWBNo1",
        "colab_type": "code",
        "colab": {}
      },
      "source": [
        "import numpy as np\n",
        " \n",
        "import wave\n",
        " \n",
        "import struct\n",
        " \n",
        "import matplotlib.pyplot as plt\n",
        " \n",
        "# frequency is the number of times a wave repeats a second\n",
        " \n",
        "frequency = 2000\n",
        " \n",
        "num_samples = 4800\n",
        " \n",
        "# The sampling rate of the analog to digital convert\n",
        " \n",
        "sampling_rate = 4800\n",
        " \n",
        "amplitude = 8000\n",
        " \n",
        "file = \"test-1.wav\"\n"
      ],
      "execution_count": null,
      "outputs": []
    },
    {
      "cell_type": "code",
      "metadata": {
        "id": "TA4v18DeBkAS",
        "colab_type": "code",
        "colab": {}
      },
      "source": [
        "sine_wave = [np.sin(2 * np.pi * frequency * x/sampling_rate) for x in range(num_samples)]\n"
      ],
      "execution_count": null,
      "outputs": []
    },
    {
      "cell_type": "code",
      "metadata": {
        "id": "EjtigpUIBl7X",
        "colab_type": "code",
        "colab": {}
      },
      "source": [
        "nframes=num_samples\n",
        " \n",
        "comptype=\"NONE\"\n",
        " \n",
        "compname=\"not compressed\"\n",
        " \n",
        "nchannels=1\n",
        " \n",
        "sampwidth=2"
      ],
      "execution_count": null,
      "outputs": []
    },
    {
      "cell_type": "code",
      "metadata": {
        "id": "005Yk-nRCCuz",
        "colab_type": "code",
        "colab": {}
      },
      "source": [
        "wav_file1=wave.open(file, 'w')\n",
        " \n",
        "wav_file1.setparams((nchannels, sampwidth, int(sampling_rate), nframes, comptype, compname))"
      ],
      "execution_count": null,
      "outputs": []
    },
    {
      "cell_type": "code",
      "metadata": {
        "id": "8Aw6NrvXCYAY",
        "colab_type": "code",
        "colab": {}
      },
      "source": [
        "for s in sine_wave:\n",
        "   wav_file.writeframes(struct.pack('h', int(s*amplitude)))\n"
      ],
      "execution_count": null,
      "outputs": []
    },
    {
      "cell_type": "code",
      "metadata": {
        "id": "PLg43ajWHsT_",
        "colab_type": "code",
        "colab": {
          "base_uri": "https://localhost:8080/",
          "height": 297
        },
        "outputId": "ea3e6288-84fa-4217-fa80-2f00c7575e3a"
      },
      "source": [
        "!pip install audiosegment\n"
      ],
      "execution_count": null,
      "outputs": [
        {
          "output_type": "stream",
          "text": [
            "Collecting audiosegment\n",
            "  Downloading https://files.pythonhosted.org/packages/9f/78/2f062377cc32dbe8cbd74ede1e2cb26ec36350b83095b5a6e06cc6f9c251/audiosegment-0.23.0-py3-none-any.whl\n",
            "Collecting pydub\n",
            "  Downloading https://files.pythonhosted.org/packages/7b/d1/fbfa79371a8cd9bb15c2e3c480d7e6e340ed5cc55005174e16f48418333a/pydub-0.24.1-py2.py3-none-any.whl\n",
            "Collecting webrtcvad\n",
            "\u001b[?25l  Downloading https://files.pythonhosted.org/packages/89/34/e2de2d97f3288512b9ea56f92e7452f8207eb5a0096500badf9dfd48f5e6/webrtcvad-2.0.10.tar.gz (66kB)\n",
            "\u001b[K     |████████████████████████████████| 71kB 5.8MB/s \n",
            "\u001b[?25hRequirement already satisfied: numpy in /usr/local/lib/python3.6/dist-packages (from audiosegment) (1.18.5)\n",
            "Building wheels for collected packages: webrtcvad\n",
            "  Building wheel for webrtcvad (setup.py) ... \u001b[?25l\u001b[?25hdone\n",
            "  Created wheel for webrtcvad: filename=webrtcvad-2.0.10-cp36-cp36m-linux_x86_64.whl size=71437 sha256=b67aedf136dcdfe14259ac54d0f8646ba0c5c83f02eae6d65d2ce4ef7766bf42\n",
            "  Stored in directory: /root/.cache/pip/wheels/44/2a/18/bd1aec41cac7c3051fe95d92a6ed446122ea31dc713c432fa1\n",
            "Successfully built webrtcvad\n",
            "Installing collected packages: pydub, webrtcvad, audiosegment\n",
            "Successfully installed audiosegment-0.23.0 pydub-0.24.1 webrtcvad-2.0.10\n"
          ],
          "name": "stdout"
        }
      ]
    },
    {
      "cell_type": "code",
      "metadata": {
        "id": "jiSeuwEMJOHv",
        "colab_type": "code",
        "colab": {}
      },
      "source": [
        "from pydub import AudioSegment\n",
        "sound1 = AudioSegment.from_wav(\"test.wav\")\n",
        "sound2 = AudioSegment.from_wav(\"test-1.wav\")\n",
        "\n"
      ],
      "execution_count": null,
      "outputs": []
    },
    {
      "cell_type": "code",
      "metadata": {
        "id": "EJxIzYzkJtFe",
        "colab_type": "code",
        "colab": {}
      },
      "source": [
        "combined_sounds = sound1 + sound2\n"
      ],
      "execution_count": null,
      "outputs": []
    },
    {
      "cell_type": "code",
      "metadata": {
        "id": "RjnQ9PJnJxU-",
        "colab_type": "code",
        "colab": {
          "base_uri": "https://localhost:8080/",
          "height": 35
        },
        "outputId": "ea8ec633-d349-4245-845c-f9d65696cc7f"
      },
      "source": [
        "combined_sounds.export(\"combined.wav\", format=\"wav\")\n"
      ],
      "execution_count": null,
      "outputs": [
        {
          "output_type": "execute_result",
          "data": {
            "text/plain": [
              "<_io.BufferedRandom name='combined.wav'>"
            ]
          },
          "metadata": {
            "tags": []
          },
          "execution_count": 49
        }
      ]
    }
  ]
}